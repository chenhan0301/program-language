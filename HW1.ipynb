{
 "cells": [
  {
   "cell_type": "code",
   "execution_count": 1,
   "id": "6fee6b1c-bb68-4591-90fd-f8fb4788b755",
   "metadata": {},
   "outputs": [],
   "source": [
    "import pandas as pd"
   ]
  },
  {
   "cell_type": "code",
   "execution_count": 3,
   "id": "758017a0-79a4-4d80-bbe0-7d44e3a65dc4",
   "metadata": {},
   "outputs": [],
   "source": [
    "# 讀取CSV檔案並轉換為DataFrame\n",
    "df = pd.read_csv('rank.csv')"
   ]
  },
  {
   "cell_type": "code",
   "execution_count": 4,
   "id": "b4a5a6fd-c84f-4431-bb19-9ff05c40fcbd",
   "metadata": {},
   "outputs": [],
   "source": [
    "# 將DataFrame轉換為Set資料型態\n",
    "rank2023 = set(df['2023'])\n",
    "rank2024 = set(df['2024'])"
   ]
  },
  {
   "cell_type": "code",
   "execution_count": 5,
   "id": "e4e12acd-3e4b-4f9d-9422-484a280eb8f0",
   "metadata": {},
   "outputs": [
    {
     "name": "stdout",
     "output_type": "stream",
     "text": [
      "聯集： {\"Ronnie O'Sullivan\", 'Kyren Wilson', 'Mark Williams?', 'Mark Allen', 'Neil Robertson', 'Mark Selby', 'Judd Trump', 'Luca Brecel', 'Shaun Murphy', 'Ali Carter', 'Ding Junhui', 'John Higgins'}\n",
      "交集： {\"Ronnie O'Sullivan\", 'Mark Allen', 'Mark Selby', 'Judd Trump', 'Luca Brecel', 'Shaun Murphy'}\n",
      "差集： {'Neil Robertson', 'John Higgins', 'Kyren Wilson'}\n"
     ]
    }
   ],
   "source": [
    "# 進行聯集、交集、差集的分析\n",
    "union = rank2023.union(rank2024)\n",
    "intersection = rank2023.intersection(rank2024)\n",
    "difference = rank2023.difference(rank2024)\n",
    "\n",
    "print(\"聯集：\", union)\n",
    "print(\"交集：\", intersection)\n",
    "print(\"差集：\", difference)"
   ]
  },
  {
   "cell_type": "code",
   "execution_count": null,
   "id": "abceb26d-4454-4805-a214-055bd10f4d00",
   "metadata": {},
   "outputs": [],
   "source": []
  }
 ],
 "metadata": {
  "kernelspec": {
   "display_name": "Python 3 (ipykernel)",
   "language": "python",
   "name": "python3"
  },
  "language_info": {
   "codemirror_mode": {
    "name": "ipython",
    "version": 3
   },
   "file_extension": ".py",
   "mimetype": "text/x-python",
   "name": "python",
   "nbconvert_exporter": "python",
   "pygments_lexer": "ipython3",
   "version": "3.11.7"
  }
 },
 "nbformat": 4,
 "nbformat_minor": 5
}
