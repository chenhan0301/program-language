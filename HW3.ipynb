{
 "cells": [
  {
   "cell_type": "code",
   "execution_count": 60,
   "id": "c123ca38-8370-4d70-b470-110cee1fc036",
   "metadata": {},
   "outputs": [
    {
     "name": "stdout",
     "output_type": "stream",
     "text": [
      "成功儲存成JSON\n"
     ]
    }
   ],
   "source": [
    "import requests\n",
    "from bs4 import BeautifulSoup\n",
    "import json\n",
    "import pandas as pd\n",
    "\n",
    "url =\"https://www.ptt.cc/bbs/Baseball/index.html\"\n",
    "headers = {'User-Agent':'Mozilla/5.0 (Windows NT 10.0; Win64; x64) AppleWebKit/537.36 (KHTML, like Gecko) Chrome/123.0.0.0 Safari/537.36'}\n",
    "response = requests.get(url, headers=headers)\n",
    "soup = BeautifulSoup(response.text,\"html.parser\")\n",
    "articles = soup.find_all(\"div\",class_=\"r-ent\")\n",
    "data_list = []\n",
    "for a in articles:\n",
    "    data = {}\n",
    "    title = a.find(\"div\",class_=\"title\")\n",
    "    if title and title.a:\n",
    "       title = title.a.text\n",
    "    else:\n",
    "        title = \"沒有標題\"\n",
    "    data[\"標題\"] = title\n",
    "    \n",
    "\n",
    "    popular = a.find(\"div\",class_=\"nrec\")\n",
    "    if popular and popular.span:\n",
    "        popular = popular.span.text\n",
    "    else:\n",
    "        popular = \"N/A\"\n",
    "    data[\"人氣\"] = popular\n",
    "    date = a.find(\"div\",class_=\"date\")\n",
    "    if date:\n",
    "        date = date.text\n",
    "    else:\n",
    "        date = \"N/A\"\n",
    "    data[\"日期\"] = date\n",
    "    data_list.append(data)\n",
    "with open(\"ptt_baseball_data\", \"w\",encoding=\"utf-8\") as file:\n",
    "     json.dump(data_list,file,ensure_ascii=False,indent=4)\n",
    "print(\"成功儲存成JSON\")\n",
    "   \n",
    "df = pd.DataFrame(data_list)\n",
    "\n",
    "# Save to CSV\n",
    "df.to_csv(\"ptt_baseball_data.csv\", index=False, encoding=\"utf-8-sig\")\n",
    "\n",
    "    "
   ]
  }
 ],
 "metadata": {
  "kernelspec": {
   "display_name": "Python 3 (ipykernel)",
   "language": "python",
   "name": "python3"
  },
  "language_info": {
   "codemirror_mode": {
    "name": "ipython",
    "version": 3
   },
   "file_extension": ".py",
   "mimetype": "text/x-python",
   "name": "python",
   "nbconvert_exporter": "python",
   "pygments_lexer": "ipython3",
   "version": "3.11.7"
  },
  "widgets": {
   "application/vnd.jupyter.widget-state+json": {
    "state": {},
    "version_major": 2,
    "version_minor": 0
   }
  }
 },
 "nbformat": 4,
 "nbformat_minor": 5
}
