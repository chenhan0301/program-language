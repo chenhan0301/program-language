{
 "cells": [
  {
   "cell_type": "code",
   "execution_count": 1,
   "id": "3bc29d31-59d3-42f1-b979-664974eebc50",
   "metadata": {},
   "outputs": [],
   "source": [
    "import json\n",
    "\n",
    "snooker_players = [\n",
    "    {\"Name\": \"Ronnie O'Sullivan\", \"Nationality\": \"England\", \"Sum\": 1089000, \"Rank\": 1},\n",
    "    {\"Name\": \"Judd Trump\", \"Nationality\": \"England\", \"Sum\": 1051000, \"Rank\": 2},\n",
    "    {\"Name\": \"Mark Allen\", \"Nationality\": \"N.Ireland\", \"Sum\": 945000, \"Rank\": 3},\n",
    "    {\"Name\": \"Luca Brecel\", \"Nationality\": \"Belgium\", \"Sum\": 730500, \"Rank\": 4},\n",
    "    {\"Name\": \"Mark Selby\", \"Nationality\": \"England\", \"Sum\": 658500, \"Rank\": 5},\n",
    "    {\"Name\": \"Shaun Murphy\", \"Nationality\": \"England\", \"Sum\": 468000, \"Rank\": 6},\n",
    "    {\"Name\": \"Ding Junhui\", \"Nationality\": \"China\", \"Sum\": 456500, \"Rank\": 7},\n",
    "    {\"Name\": \"Mark J Williams\", \"Nationality\": \"Wales\", \"Sum\": 427500, \"Rank\": 8},\n",
    "    {\"Name\": \"Ali Carter\", \"Nationality\": \"England\", \"Sum\": 413000, \"Rank\": 9},\n",
    "    {\"Name\": \"John Higgins\", \"Nationality\": \"Scotland\", \"Sum\": 393500, \"Rank\": 10},\n",
    "    {\"Name\": \"Zhang Anda\", \"Nationality\": \"China\", \"Sum\": 386000, \"Rank\": 11},\n",
    "    {\"Name\": \"Kyren Wilson\", \"Nationality\": \"England\", \"Sum\": 381500, \"Rank\": 12},\n",
    "    {\"Name\": \"Gary Wilson\", \"Nationality\": \"England\", \"Sum\": 381500, \"Rank\": 13},\n",
    "    {\"Name\": \"Neil Robertson\", \"Nationality\": \"Australia\", \"Sum\": 341000, \"Rank\": 14},\n",
    "    {\"Name\": \"Tom Ford\", \"Nationality\": \"England\", \"Sum\": 305500, \"Rank\": 15},\n",
    "    {\"Name\": \"Barry Hawkins\", \"Nationality\": \"England\", \"Sum\": 292500, \"Rank\": 16},\n",
    "    {\"Name\": \"Robert Milkins\", \"Nationality\": \"England\", \"Sum\": 283500, \"Rank\": 17},\n",
    "    {\"Name\": \"Jack Lisowski\", \"Nationality\": \"England\", \"Sum\": 277000, \"Rank\": 18},\n",
    "    {\"Name\": \"Ryan Day\", \"Nationality\": \"Wales\", \"Sum\": 255500, \"Rank\": 19},\n",
    "    {\"Name\": \"Hossein Vafaei\", \"Nationality\": \"Iran\", \"Sum\": 244500, \"Rank\": 20},\n",
    "    {\"Name\": \"Chris Wakelin\", \"Nationality\": \"England\", \"Sum\": 235500, \"Rank\": 21},\n",
    "    {\"Name\": \"Zhou Yuelong\", \"Nationality\": \"China\", \"Sum\": 232000, \"Rank\": 22},\n",
    "    {\"Name\": \"Noppon Saengkham\", \"Nationality\": \"Thailand\", \"Sum\": 229500, \"Rank\": 23},\n",
    "    {\"Name\": \"Si Jiahui\", \"Nationality\": \"China\", \"Sum\": 219000, \"Rank\": 24},\n",
    "    {\"Name\": \"Anthony McGill\", \"Nationality\": \"Scotland\", \"Sum\": 190000, \"Rank\": 25}\n",
    "]\n",
    "\n",
    "with open(\"snooker_players.json\", \"w\") as json_file:\n",
    "    json.dump(snooker_players, json_file, indent=4)\n",
    "\n"
   ]
  },
  {
   "cell_type": "code",
   "execution_count": 5,
   "id": "9431d383-6205-4124-956a-337c3e99256e",
   "metadata": {},
   "outputs": [
    {
     "name": "stdout",
     "output_type": "stream",
     "text": [
      "來自England的選手有:\n",
      "Ronnie O'Sullivan\n",
      "Judd Trump\n",
      "Mark Selby\n",
      "Shaun Murphy\n",
      "Ali Carter\n",
      "Kyren Wilson\n",
      "Gary Wilson\n",
      "Tom Ford\n",
      "Barry Hawkins\n",
      "Robert Milkins\n",
      "Jack Lisowski\n",
      "Chris Wakelin\n"
     ]
    }
   ],
   "source": [
    "# 1. 找出來自England的選手\n",
    "\n",
    "england_players = [player[\"Name\"] for player in snooker_players if player[\"Nationality\"] == \"England\"]\n",
    "print(\"來自England的選手有:\")\n",
    "for player in england_players:\n",
    "    print(player)\n"
   ]
  },
  {
   "cell_type": "code",
   "execution_count": 7,
   "id": "a69fdd9e-eaae-47a3-aa2b-40aae2eb4cba",
   "metadata": {},
   "outputs": [
    {
     "name": "stdout",
     "output_type": "stream",
     "text": [
      "\n",
      "Rank前5名的選手有:\n",
      "Ronnie O'Sullivan\n",
      "Judd Trump\n",
      "Mark Allen\n",
      "Luca Brecel\n",
      "Mark Selby\n"
     ]
    }
   ],
   "source": [
    "# 2. 找出Rank前5名的選手\n",
    "\n",
    "top_5_players = [player[\"Name\"] for player in sorted(snooker_players, key=lambda x: x[\"Rank\"])[:5]]\n",
    "print(\"\\nRank前5名的選手有:\")\n",
    "for player in top_5_players:\n",
    "    print(player)"
   ]
  },
  {
   "cell_type": "code",
   "execution_count": 9,
   "id": "aa98f532-ce79-4166-bc6a-739972829e41",
   "metadata": {},
   "outputs": [
    {
     "name": "stdout",
     "output_type": "stream",
     "text": [
      "\n",
      "Sum高於300000的選手有:\n",
      "Ronnie O'Sullivan\n",
      "Judd Trump\n",
      "Mark Allen\n",
      "Luca Brecel\n",
      "Mark Selby\n",
      "Shaun Murphy\n",
      "Ding Junhui\n",
      "Mark J Williams\n",
      "Ali Carter\n",
      "John Higgins\n",
      "Zhang Anda\n",
      "Kyren Wilson\n",
      "Gary Wilson\n",
      "Neil Robertson\n",
      "Tom Ford\n"
     ]
    }
   ],
   "source": [
    "# 3. 找出Sum高於300000的選手\n",
    "\n",
    "high_sum_players = [player[\"Name\"] for player in snooker_players if player[\"Sum\"] > 300000]\n",
    "print(\"\\nSum高於300000的選手有:\")\n",
    "for player in high_sum_players:\n",
    "    print(player)"
   ]
  },
  {
   "cell_type": "code",
   "execution_count": null,
   "id": "6513276e-2a7b-40f6-b42a-e29d4d2ce1b9",
   "metadata": {},
   "outputs": [],
   "source": []
  }
 ],
 "metadata": {
  "kernelspec": {
   "display_name": "Python 3 (ipykernel)",
   "language": "python",
   "name": "python3"
  },
  "language_info": {
   "codemirror_mode": {
    "name": "ipython",
    "version": 3
   },
   "file_extension": ".py",
   "mimetype": "text/x-python",
   "name": "python",
   "nbconvert_exporter": "python",
   "pygments_lexer": "ipython3",
   "version": "3.11.7"
  }
 },
 "nbformat": 4,
 "nbformat_minor": 5
}
