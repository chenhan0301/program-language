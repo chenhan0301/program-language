{
 "cells": [
  {
   "cell_type": "code",
   "execution_count": 10,
   "id": "6513276e-2a7b-40f6-b42a-e29d4d2ce1b9",
   "metadata": {},
   "outputs": [
    {
     "name": "stdout",
     "output_type": "stream",
     "text": [
      "JSON 檔案已生成。\n"
     ]
    }
   ],
   "source": [
    "import json\n",
    "#選手總收入\n",
    "player_sum = {\n",
    "    \"Ronnie O'Sullivan\": 1_089_000,\n",
    "    \"Judd Trump\": 1_051_000,\n",
    "    \"Mark Allen\": 945_000,\n",
    "    \"Luca Brecel\": 730_500,\n",
    "    \"Mark Selby\": 658_500,\n",
    "    \"Shaun Murphy\": 468_000,\n",
    "    \"Ding Junhui\": 456_500,\n",
    "    \"Mark J Williams\": 427_500,\n",
    "    \"Ali Carter\": 413_000,\n",
    "    \"John Higgins\": 393_500,\n",
    "    \"Zhang Anda\": 386_000,\n",
    "    \"Kyren Wilson\": 381_500,\n",
    "    \"Gary Wilson\": 381_500,\n",
    "    \"Neil Robertson\": 341_000,\n",
    "    \"Tom Ford\": 305_500,\n",
    "    \"Barry Hawkins\": 292_500,\n",
    "    \"Robert Milkins\": 283_500,\n",
    "    \"Jack Lisowski\": 277_000,\n",
    "    \"Ryan Day\": 255_500,\n",
    "    \"Hossein Vafaei\": 244_500,\n",
    "    \"Chris Wakelin\": 235_500,\n",
    "    \"Zhou Yuelong\": 232_000,\n",
    "    \"Noppon Saengkham\": 229_500,\n",
    "    \"Si Jiahui\": 219_000,\n",
    "    \"Anthony McGill\": 190_000\n",
    "}\n",
    "#選手國籍\n",
    "player_nationality = {\n",
    "    \"Ronnie O'Sullivan\": \"England\",\n",
    "    \"Judd Trump\": \"England\",\n",
    "    \"Mark Allen\": \"N.Ireland\",\n",
    "    \"Luca Brecel\": \"Belgium\",\n",
    "    \"Mark Selby\": \"England\",\n",
    "    \"Shaun Murphy\": \"England\",\n",
    "    \"Ding Junhui\": \"China\",\n",
    "    \"Mark J Williams\": \"Wales\",\n",
    "    \"Ali Carter\": \"England\",\n",
    "    \"John Higgins\": \"Scotland\",\n",
    "    \"Zhang Anda\": \"China\",\n",
    "    \"Kyren Wilson\": \"England\",\n",
    "    \"Gary Wilson\": \"England\",\n",
    "    \"Neil Robertson\": \"Australia\",\n",
    "    \"Tom Ford\": \"England\",\n",
    "    \"Barry Hawkins\": \"England\",\n",
    "    \"Robert Milkins\": \"England\",\n",
    "    \"Jack Lisowski\": \"England\",\n",
    "    \"Ryan Day\": \"Wales\",\n",
    "    \"Hossein Vafaei\": \"Iran\",\n",
    "    \"Chris Wakelin\": \"England\",\n",
    "    \"Zhou Yuelong\": \"China\",\n",
    "    \"Noppon Saengkham\": \"Thailand\",\n",
    "    \"Si Jiahui\": \"China\",\n",
    "    \"Anthony McGill\": \"Scotland\"\n",
    "}\n",
    "#選手世界排名\n",
    "player_rank = {\n",
    "    \"Ronnie O'Sullivan\": [1],\n",
    "    \"Judd Trump\": [2],\n",
    "    \"Mark Allen\": [3],\n",
    "    \"Luca Brecel\": [4],\n",
    "    \"Mark Selby\": [5],\n",
    "    \"Shaun Murphy\": [6],\n",
    "    \"Ding Junhui\": [7],\n",
    "    \"Mark J Williams\": [8],\n",
    "    \"Ali Carter\": [9],\n",
    "    \"John Higgins\": [10],\n",
    "    \"Zhang Anda\": [11],\n",
    "    \"Kyren Wilson\": [12],\n",
    "    \"Gary Wilson\": [13],\n",
    "    \"Neil Robertson\": [14],\n",
    "    \"Tom Ford\": [15],\n",
    "    \"Barry Hawkins\": [16],\n",
    "    \"Robert Milkins\": [17],\n",
    "    \"Jack Lisowski\": [18],\n",
    "    \"Ryan Day\": [19],\n",
    "    \"Hossein Vafaei\": [20],\n",
    "    \"Chris Wakelin\": [21],\n",
    "    \"Zhou Yuelong\": [22],\n",
    "    \"Noppon Saengkham\": [23],\n",
    "    \"Si Jiahui\": [24],\n",
    "    \"Anthony McGill\": [25]\n",
    "}\n",
    "\n",
    "\n",
    "\n",
    "combined_data = {}\n",
    "for player in player_sum:\n",
    "    combined_data[player] = {\n",
    "        \"總收入\": player_sum[player],\n",
    "        \"國籍\": player_nationality[player],\n",
    "        \"世界排名\": player_rank[player][0]\n",
    "    }\n",
    "\n",
    "# 輸出到 JSON 檔案\n",
    "with open('snooker_player_data.json', 'w', encoding='utf-8') as file:\n",
    "    json.dump(combined_data, file, ensure_ascii=False, indent=4)\n",
    "\n",
    "print(\"JSON 檔案已生成。\")\n",
    "\n"
   ]
  },
  {
   "cell_type": "code",
   "execution_count": 12,
   "id": "3458db18-43c0-4f16-8c41-5b5d674b93c8",
   "metadata": {},
   "outputs": [
    {
     "name": "stdout",
     "output_type": "stream",
     "text": [
      "來自England的選手有：\n",
      "Ronnie O'Sullivan\n",
      "Judd Trump\n",
      "Mark Selby\n",
      "Shaun Murphy\n",
      "Ali Carter\n",
      "Kyren Wilson\n",
      "Gary Wilson\n",
      "Tom Ford\n",
      "Barry Hawkins\n",
      "Robert Milkins\n",
      "Jack Lisowski\n",
      "Chris Wakelin\n"
     ]
    }
   ],
   "source": [
    "england_players = [player for player, nationality in player_nationality.items() if nationality == \"England\"]\n",
    "print(\"來自England的選手有：\")\n",
    "for player in england_players:\n",
    "    print(player)\n"
   ]
  },
  {
   "cell_type": "code",
   "execution_count": 13,
   "id": "568b420d-315b-4243-a885-9bdccf9c4d60",
   "metadata": {},
   "outputs": [
    {
     "name": "stdout",
     "output_type": "stream",
     "text": [
      "Rank前5名的選手有：\n",
      "Ronnie O'Sullivan\n",
      "Judd Trump\n",
      "Mark Allen\n",
      "Luca Brecel\n",
      "Mark Selby\n"
     ]
    }
   ],
   "source": [
    "top_5_players = [player for player, rank in sorted(player_rank.items(), key=lambda x: x[1][0])[:5]]\n",
    "print(\"Rank前5名的選手有：\")\n",
    "for player in top_5_players:\n",
    "    print(player)\n"
   ]
  },
  {
   "cell_type": "code",
   "execution_count": 14,
   "id": "9a210193-64f3-4427-a30a-6a246bc702be",
   "metadata": {},
   "outputs": [
    {
     "name": "stdout",
     "output_type": "stream",
     "text": [
      "Sum高于300000的選手有：\n",
      "Ronnie O'Sullivan\n",
      "Judd Trump\n",
      "Mark Allen\n",
      "Luca Brecel\n",
      "Mark Selby\n",
      "Shaun Murphy\n",
      "Ding Junhui\n",
      "Mark J Williams\n",
      "Ali Carter\n",
      "John Higgins\n",
      "Zhang Anda\n",
      "Kyren Wilson\n",
      "Gary Wilson\n",
      "Neil Robertson\n",
      "Tom Ford\n"
     ]
    }
   ],
   "source": [
    "high_earnings_players = [player for player, earnings in player_sum.items() if earnings > 300000]\n",
    "print(\"Sum高于300000的選手有：\")\n",
    "for player in high_earnings_players:\n",
    "    print(player)\n"
   ]
  },
  {
   "cell_type": "code",
   "execution_count": null,
   "id": "a380e171-2aa1-4ca3-8c3e-5282be29c88c",
   "metadata": {},
   "outputs": [],
   "source": []
  },
  {
   "cell_type": "code",
   "execution_count": null,
   "id": "d857d29c-e2e5-4b02-8cde-b37b3e2e831d",
   "metadata": {},
   "outputs": [],
   "source": []
  }
 ],
 "metadata": {
  "kernelspec": {
   "display_name": "Python 3 (ipykernel)",
   "language": "python",
   "name": "python3"
  },
  "language_info": {
   "codemirror_mode": {
    "name": "ipython",
    "version": 3
   },
   "file_extension": ".py",
   "mimetype": "text/x-python",
   "name": "python",
   "nbconvert_exporter": "python",
   "pygments_lexer": "ipython3",
   "version": "3.11.7"
  },
  "widgets": {
   "application/vnd.jupyter.widget-state+json": {
    "state": {},
    "version_major": 2,
    "version_minor": 0
   }
  }
 },
 "nbformat": 4,
 "nbformat_minor": 5
}
